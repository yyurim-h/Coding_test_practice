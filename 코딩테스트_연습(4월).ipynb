{
 "cells": [
  {
   "cell_type": "markdown",
   "id": "e8168dd9",
   "metadata": {},
   "source": [
    "# 코딩테스트"
   ]
  },
  {
   "cell_type": "markdown",
   "id": "29075cdf",
   "metadata": {},
   "source": [
    "## 1단계 - 입출력과 사칙연산"
   ]
  },
  {
   "cell_type": "code",
   "execution_count": 1,
   "id": "4b433362",
   "metadata": {},
   "outputs": [
    {
     "name": "stdout",
     "output_type": "stream",
     "text": [
      "Hello World!\n"
     ]
    }
   ],
   "source": [
    "# 2557번\n",
    "print(\"Hello World!\")"
   ]
  },
  {
   "cell_type": "code",
   "execution_count": 6,
   "id": "d38eec85",
   "metadata": {},
   "outputs": [
    {
     "name": "stdout",
     "output_type": "stream",
     "text": [
      "3 4\n",
      "7\n"
     ]
    }
   ],
   "source": [
    "# 1000번\n",
    "a, b = map(int, input().split())\n",
    "print(a+b)"
   ]
  },
  {
   "cell_type": "code",
   "execution_count": 7,
   "id": "922b2ff8",
   "metadata": {},
   "outputs": [
    {
     "name": "stdout",
     "output_type": "stream",
     "text": [
      "3 1\n",
      "2\n"
     ]
    }
   ],
   "source": [
    "# 1001번\n",
    "a,b = map(int, input().split())\n",
    "print(a-b)"
   ]
  },
  {
   "cell_type": "code",
   "execution_count": 8,
   "id": "a2b6fa52",
   "metadata": {},
   "outputs": [
    {
     "name": "stdout",
     "output_type": "stream",
     "text": [
      "2 3\n",
      "6\n"
     ]
    }
   ],
   "source": [
    "# 10998번\n",
    "a,b = map(int, input().split())\n",
    "print(a*b)"
   ]
  },
  {
   "cell_type": "code",
   "execution_count": 9,
   "id": "bcebbbec",
   "metadata": {},
   "outputs": [
    {
     "name": "stdout",
     "output_type": "stream",
     "text": [
      "9 3\n",
      "3.0\n"
     ]
    }
   ],
   "source": [
    "# 1008번\n",
    "a,b = map(int, input().split())\n",
    "print(a/b)"
   ]
  },
  {
   "cell_type": "code",
   "execution_count": 11,
   "id": "57a828eb",
   "metadata": {},
   "outputs": [
    {
     "name": "stdout",
     "output_type": "stream",
     "text": [
      "7 3\n",
      "10\n",
      "4\n",
      "21\n",
      "2\n",
      "1\n"
     ]
    }
   ],
   "source": [
    "# 10869번\n",
    "a, b = map(int, input().split())\n",
    "print(a+b)\n",
    "print(a-b)\n",
    "print(a*b)\n",
    "print(a//b)\n",
    "print(a%b)"
   ]
  },
  {
   "cell_type": "code",
   "execution_count": 15,
   "id": "bd9c4ec8",
   "metadata": {},
   "outputs": [
    {
     "name": "stdout",
     "output_type": "stream",
     "text": [
      "joonas\n",
      "joonas??!\n"
     ]
    }
   ],
   "source": [
    "# 10926번\n",
    "a = str(input())\n",
    "print(a+\"??!\")"
   ]
  },
  {
   "cell_type": "code",
   "execution_count": 17,
   "id": "b23c3f7e",
   "metadata": {},
   "outputs": [
    {
     "name": "stdout",
     "output_type": "stream",
     "text": [
      "2571\n",
      "2028\n"
     ]
    }
   ],
   "source": [
    "# 18108번\n",
    "y = int(input())\n",
    "print(y-543)"
   ]
  },
  {
   "cell_type": "code",
   "execution_count": 18,
   "id": "330795cc",
   "metadata": {
    "scrolled": true
   },
   "outputs": [
    {
     "name": "stdout",
     "output_type": "stream",
     "text": [
      "5 8 4\n",
      "1\n",
      "1\n",
      "0\n",
      "0\n"
     ]
    }
   ],
   "source": [
    "# 10430번\n",
    "a, b, c = map(int, input().split())\n",
    "print((a+b)%c)\n",
    "print(((a%c)+(b%c))%c)\n",
    "print((a*b)%c)\n",
    "print(((a%c)*(b%c))%c)"
   ]
  },
  {
   "cell_type": "code",
   "execution_count": 33,
   "id": "fca9ff3c",
   "metadata": {},
   "outputs": [
    {
     "name": "stdout",
     "output_type": "stream",
     "text": [
      "472\n",
      "385\n",
      "2360\n",
      "3776\n",
      "1416\n",
      "181720\n"
     ]
    }
   ],
   "source": [
    "# 2588번 - 1\n",
    "a = int(input())\n",
    "b = int(input())\n",
    "\n",
    "print(a*(b%10))\n",
    "print(a*((b//10)%10))\n",
    "print(a*((b//100)))\n",
    "print(a*b)"
   ]
  },
  {
   "cell_type": "code",
   "execution_count": 34,
   "id": "2994c0f9",
   "metadata": {},
   "outputs": [
    {
     "name": "stdout",
     "output_type": "stream",
     "text": [
      "472\n",
      "385\n",
      "2360\n",
      "3776\n",
      "1416\n",
      "181720\n"
     ]
    }
   ],
   "source": [
    "# 2588번 -2\n",
    "a = int(input())\n",
    "b = input()\n",
    "\n",
    "print(a*int(b[2]))\n",
    "print(a*int(b[1]))\n",
    "print(a*int(b[0]))\n",
    "print(a*int(b))"
   ]
  },
  {
   "cell_type": "code",
   "execution_count": 35,
   "id": "f817fdc8",
   "metadata": {},
   "outputs": [
    {
     "name": "stdout",
     "output_type": "stream",
     "text": [
      "77 77 7777\n",
      "7931\n"
     ]
    }
   ],
   "source": [
    "# 11382번\n",
    "a, b, c = map(int, input().split())\n",
    "print(a+b+c)"
   ]
  },
  {
   "cell_type": "code",
   "execution_count": 44,
   "id": "3e6cde8f",
   "metadata": {},
   "outputs": [
    {
     "name": "stdout",
     "output_type": "stream",
     "text": [
      "\\    /\\\n",
      " )  ( ')\n",
      "(  /  )\n",
      " \\(__)|\n"
     ]
    }
   ],
   "source": [
    "# 10171번\n",
    "print(\"\"\"\\    /\\\\\\n )  ( ')\\n(  /  )\\n \\(__)|\"\"\")"
   ]
  },
  {
   "cell_type": "code",
   "execution_count": 49,
   "id": "28cdb75e",
   "metadata": {},
   "outputs": [
    {
     "name": "stdout",
     "output_type": "stream",
     "text": [
      "|\\_/|\n",
      "|q p|   /}\n",
      "( 0 )\"\"\"\\\n",
      "|\"^\"`    |\n",
      "||_/=\\\\__|\n"
     ]
    }
   ],
   "source": [
    "# 10172번\n",
    "print('''|\\_/|\\n|q p|   /}\\n( 0 )\"\"\"\\\\\\n|\"^\"`    |\\n||_/=\\\\\\\\__|''')"
   ]
  },
  {
   "cell_type": "markdown",
   "id": "dbc5e358",
   "metadata": {},
   "source": [
    "## 2단계 - 조건문"
   ]
  },
  {
   "cell_type": "code",
   "execution_count": 61,
   "id": "201b392b",
   "metadata": {},
   "outputs": [
    {
     "name": "stdout",
     "output_type": "stream",
     "text": [
      "5 5\n",
      "==\n"
     ]
    }
   ],
   "source": [
    "# 1330번\n",
    "A, B = map(int, input().split())\n",
    "\n",
    "if A > B :\n",
    "    print(\">\")\n",
    "elif A < B :\n",
    "    print(\"<\")\n",
    "else :\n",
    "    print(\"==\")"
   ]
  },
  {
   "cell_type": "code",
   "execution_count": 76,
   "id": "237efbfc",
   "metadata": {},
   "outputs": [
    {
     "name": "stdout",
     "output_type": "stream",
     "text": [
      "98\n",
      "A\n"
     ]
    }
   ],
   "source": [
    "# 9498번\n",
    "score = int(input())\n",
    "\n",
    "if score >= 90:\n",
    "    print(\"A\")\n",
    "elif score >= 80:\n",
    "    print(\"B\")\n",
    "elif score >= 70:\n",
    "    print(\"C\")\n",
    "elif score >= 60:\n",
    "    print(\"D\")\n",
    "else:\n",
    "    print(\"F\")"
   ]
  },
  {
   "cell_type": "code",
   "execution_count": 79,
   "id": "2c452921",
   "metadata": {},
   "outputs": [
    {
     "name": "stdout",
     "output_type": "stream",
     "text": [
      "2000\n",
      "1\n"
     ]
    }
   ],
   "source": [
    "# 2753번\n",
    "year = int(input())\n",
    "\n",
    "if (year % 4 == 0 and year % 100 != 0) or (year % 400 == 0):\n",
    "    print(\"1\")\n",
    "else:\n",
    "    print(\"0\")"
   ]
  },
  {
   "cell_type": "code",
   "execution_count": 83,
   "id": "c198a579",
   "metadata": {},
   "outputs": [
    {
     "name": "stdout",
     "output_type": "stream",
     "text": [
      "9\n",
      "-13\n",
      "4\n"
     ]
    }
   ],
   "source": [
    "# 14681번\n",
    "x = int(input())\n",
    "y = int(input())\n",
    "\n",
    "if (x > 0 and y > 0):\n",
    "    print(\"1\")\n",
    "elif (x < 0 and y > 0):\n",
    "    print(\"2\")\n",
    "elif (x <0 and y < 0):\n",
    "    print(\"3\")\n",
    "elif (x > 0 and y < 0):\n",
    "    print(\"4\")"
   ]
  },
  {
   "cell_type": "code",
   "execution_count": 7,
   "id": "939bd479",
   "metadata": {
    "scrolled": true
   },
   "outputs": [
    {
     "name": "stdout",
     "output_type": "stream",
     "text": [
      "10 10\n",
      "9 25\n"
     ]
    }
   ],
   "source": [
    "# 2884번\n",
    "\n",
    "h, m = map(int, input().split())\n",
    "\n",
    "if m < 45 :\n",
    "    if h != 0:\n",
    "        print(h-1, m+15)\n",
    "    else :\n",
    "        print(24-h-1, m+15)\n",
    "elif m >= 45:\n",
    "    print(h, m-45)"
   ]
  },
  {
   "cell_type": "code",
   "execution_count": 11,
   "id": "f3e96752",
   "metadata": {},
   "outputs": [
    {
     "name": "stdout",
     "output_type": "stream",
     "text": [
      "23 48\n",
      "25\n",
      "0 13\n"
     ]
    }
   ],
   "source": [
    "# 2525번\n",
    "h, m = map(int, input().split())\n",
    "c = int(input())\n",
    "x = m + c\n",
    "\n",
    "if x >= 60 :\n",
    "    h = h + x // 60\n",
    "    m = x % 60\n",
    "    if h >= 24 :\n",
    "        h = h - 24\n",
    "        print(h, m)\n",
    "    else:\n",
    "        print(h, m)\n",
    "else:\n",
    "    print(h, m+c)"
   ]
  },
  {
   "cell_type": "code",
   "execution_count": 20,
   "id": "5d0619b5",
   "metadata": {},
   "outputs": [
    {
     "name": "stdout",
     "output_type": "stream",
     "text": [
      "1 5 5\n",
      "1500\n"
     ]
    }
   ],
   "source": [
    "# 2480번\n",
    "a, b, c = map(int, input().split())\n",
    "\n",
    "if (a == b == c) :\n",
    "    print(10000 + a * 1000)\n",
    "elif (a == b) or (a == c) or (b == c):\n",
    "    if a == b:\n",
    "        print(1000 + a * 100)\n",
    "    elif a == c:\n",
    "        print(1000 + a * 100)\n",
    "    else:\n",
    "        print(1000 + b * 100)\n",
    "else:\n",
    "    print(max(a, b, c) * 100)"
   ]
  },
  {
   "cell_type": "markdown",
   "id": "5ff505bd",
   "metadata": {},
   "source": [
    "## 3단계 - 반복문"
   ]
  },
  {
   "cell_type": "code",
   "execution_count": 39,
   "id": "2e505d6b",
   "metadata": {},
   "outputs": [
    {
     "name": "stdout",
     "output_type": "stream",
     "text": [
      "3\n",
      "3 * 1 = 3\n",
      "3 * 2 = 6\n",
      "3 * 3 = 9\n",
      "3 * 4 = 12\n",
      "3 * 5 = 15\n",
      "3 * 6 = 18\n",
      "3 * 7 = 21\n",
      "3 * 8 = 24\n",
      "3 * 9 = 27\n"
     ]
    }
   ],
   "source": [
    "# 2739번\n",
    "N = int(input())\n",
    "\n",
    "for i in range(1,10):\n",
    "    i += 0\n",
    "    a = N * i\n",
    "    print(N, \"*\", i, \"=\", a)"
   ]
  },
  {
   "cell_type": "code",
   "execution_count": 40,
   "id": "d19764e0",
   "metadata": {},
   "outputs": [
    {
     "name": "stdout",
     "output_type": "stream",
     "text": [
      "3\n",
      "1 2\n",
      "3\n",
      "3 2\n",
      "5\n",
      "6 5\n",
      "11\n"
     ]
    }
   ],
   "source": [
    "# 10950번\n",
    "T = int(input())\n",
    "\n",
    "for i in range(T):\n",
    "    a, b = map(int, input().split())\n",
    "    print(a + b)"
   ]
  },
  {
   "cell_type": "code",
   "execution_count": 51,
   "id": "1157ab76",
   "metadata": {},
   "outputs": [
    {
     "name": "stdout",
     "output_type": "stream",
     "text": [
      "5\n",
      "15\n"
     ]
    }
   ],
   "source": [
    "# 8393번\n",
    "n = int(input())\n",
    "sum = 0\n",
    "\n",
    "for i in range(1, n+1):\n",
    "    sum = sum + i\n",
    "print(sum)"
   ]
  },
  {
   "cell_type": "code",
   "execution_count": 58,
   "id": "0b7fdb8b",
   "metadata": {},
   "outputs": [
    {
     "name": "stdout",
     "output_type": "stream",
     "text": [
      "250000\n",
      "4\n",
      "20000 5\n",
      "30000 2\n",
      "10000 6\n",
      "5000 8\n",
      "No\n"
     ]
    }
   ],
   "source": [
    "# 25304번\n",
    "X = int(input())\n",
    "N = int(input())\n",
    "\n",
    "for i in range(N):\n",
    "    a, b = map(int, input().split())\n",
    "    X -= (a*b)\n",
    "    \n",
    "if X == 0 :\n",
    "    print(\"Yes\")\n",
    "else:\n",
    "    print(\"No\")"
   ]
  },
  {
   "cell_type": "code",
   "execution_count": 9,
   "id": "e5ae7bde",
   "metadata": {},
   "outputs": [
    {
     "name": "stdout",
     "output_type": "stream",
     "text": [
      "4\n",
      "long int\n"
     ]
    }
   ],
   "source": [
    "# 25314번\n",
    "N = int(input())\n",
    "\n",
    "a = N//4\n",
    "\n",
    "print(\"long \"*int(a)+\"int\")"
   ]
  },
  {
   "cell_type": "code",
   "execution_count": 6,
   "id": "ccf3957b",
   "metadata": {},
   "outputs": [
    {
     "name": "stdout",
     "output_type": "stream",
     "text": [
      "3\n"
     ]
    },
    {
     "ename": "ValueError",
     "evalue": "not enough values to unpack (expected 2, got 0)",
     "output_type": "error",
     "traceback": [
      "\u001b[1;31m---------------------------------------------------------------------------\u001b[0m",
      "\u001b[1;31mValueError\u001b[0m                                Traceback (most recent call last)",
      "Cell \u001b[1;32mIn [6], line 6\u001b[0m\n\u001b[0;32m      4\u001b[0m t \u001b[38;5;241m=\u001b[39m \u001b[38;5;28mint\u001b[39m(\u001b[38;5;28minput\u001b[39m())\n\u001b[0;32m      5\u001b[0m \u001b[38;5;28;01mfor\u001b[39;00m i \u001b[38;5;129;01min\u001b[39;00m \u001b[38;5;28mrange\u001b[39m(t):\n\u001b[1;32m----> 6\u001b[0m     a, b \u001b[38;5;241m=\u001b[39m \u001b[38;5;28mmap\u001b[39m(\u001b[38;5;28mint\u001b[39m, sys\u001b[38;5;241m.\u001b[39mstdin\u001b[38;5;241m.\u001b[39mreadline()\u001b[38;5;241m.\u001b[39mstrip()\u001b[38;5;241m.\u001b[39msplit())\n\u001b[0;32m      7\u001b[0m     \u001b[38;5;28mprint\u001b[39m(a \u001b[38;5;241m+\u001b[39m b)\n",
      "\u001b[1;31mValueError\u001b[0m: not enough values to unpack (expected 2, got 0)"
     ]
    }
   ],
   "source": [
    "# 15552번\n",
    "import sys\n",
    "\n",
    "t = int(input())\n",
    "for i in range(t):\n",
    "    a, b = map(int, sys.stdin.readline().strip().split())\n",
    "    print(a + b)"
   ]
  },
  {
   "cell_type": "code",
   "execution_count": 6,
   "id": "a1bb576d",
   "metadata": {},
   "outputs": [
    {
     "name": "stdout",
     "output_type": "stream",
     "text": [
      "5\n",
      "1 1\n",
      "Case #1: 2\n",
      "2 3\n",
      "Case #2: 5\n",
      "3 4\n",
      "Case #3: 7\n",
      "9 8\n",
      "Case #4: 17\n",
      "5 2\n",
      "Case #5: 7\n"
     ]
    }
   ],
   "source": [
    "# 11021번\n",
    "T = int(input())\n",
    "\n",
    "for i in range(T):\n",
    "    a, b = map(int, input().split())\n",
    "    print(\"Case #%s: %s\"%(i+1,a + b))"
   ]
  },
  {
   "cell_type": "code",
   "execution_count": 7,
   "id": "2a08f685",
   "metadata": {},
   "outputs": [
    {
     "name": "stdout",
     "output_type": "stream",
     "text": [
      "5\n",
      "1 1\n",
      "Case #1: 1 + 1 = 2\n",
      "2 3\n",
      "Case #2: 2 + 3 = 5\n",
      "9 8\n",
      "Case #3: 9 + 8 = 17\n",
      "5 2\n",
      "Case #4: 5 + 2 = 7\n",
      "3 4\n",
      "Case #5: 3 + 4 = 7\n"
     ]
    }
   ],
   "source": [
    "# 11022번\n",
    "T = int(input())\n",
    "\n",
    "for i in range(T):\n",
    "    a, b = map(int, input().split())\n",
    "    print(\"Case #%s: %s + %s = %s\"%(i+1, a, b, a+b))"
   ]
  },
  {
   "cell_type": "code",
   "execution_count": 8,
   "id": "7d2d1835",
   "metadata": {},
   "outputs": [
    {
     "name": "stdout",
     "output_type": "stream",
     "text": [
      "5\n",
      "*\n",
      "**\n",
      "***\n",
      "****\n",
      "*****\n"
     ]
    }
   ],
   "source": [
    "# 2438번\n",
    "n = int(input())\n",
    "\n",
    "for i in range(n):\n",
    "    print(\"*\"*(i+1))"
   ]
  },
  {
   "cell_type": "code",
   "execution_count": 16,
   "id": "1b734a49",
   "metadata": {},
   "outputs": [
    {
     "name": "stdout",
     "output_type": "stream",
     "text": [
      "5\n",
      "    *\n",
      "   **\n",
      "  ***\n",
      " ****\n",
      "*****\n"
     ]
    }
   ],
   "source": [
    "# 2439번\n",
    "n = int(input())\n",
    "\n",
    "for i in range(n):\n",
    "    print(\" \"*(n-i-1)+\"*\"*(i+1))"
   ]
  },
  {
   "cell_type": "code",
   "execution_count": 2,
   "id": "314a6bb2",
   "metadata": {},
   "outputs": [
    {
     "name": "stdout",
     "output_type": "stream",
     "text": [
      "1 3\n",
      "4\n",
      "5 6\n",
      "11\n",
      "7 2\n",
      "9\n",
      "0 0\n"
     ]
    }
   ],
   "source": [
    "# 10952번\n",
    "while True:\n",
    "    a, b = map(int, input().split())\n",
    "    if a + b == 0:\n",
    "        break\n",
    "    else:\n",
    "        print(a + b)"
   ]
  },
  {
   "cell_type": "code",
   "execution_count": 3,
   "id": "1b50c46d",
   "metadata": {},
   "outputs": [
    {
     "name": "stdout",
     "output_type": "stream",
     "text": [
      "1 2\n",
      "3\n",
      "4 5\n",
      "9\n",
      "3 6\n",
      "9\n",
      "9 1\n",
      "10\n",
      "5 8\n",
      "13\n",
      "6 2\n",
      "8\n",
      "1 2 3\n"
     ]
    }
   ],
   "source": [
    "# 10951번\n",
    "while True:\n",
    "    try:\n",
    "        a, b = map(int, input().split())\n",
    "        print(a + b)\n",
    "    except:\n",
    "        break"
   ]
  },
  {
   "cell_type": "markdown",
   "id": "cf6e57a3",
   "metadata": {},
   "source": [
    "## 4단계 - 1차원 배열"
   ]
  },
  {
   "cell_type": "code",
   "execution_count": 9,
   "id": "df4b9be6",
   "metadata": {},
   "outputs": [
    {
     "name": "stdout",
     "output_type": "stream",
     "text": [
      "11\n",
      "1 4 1 2 4 2 4 2 3 4 4\n",
      "2\n",
      "3\n"
     ]
    }
   ],
   "source": [
    "# 10807번\n",
    "\n",
    "n = int(input())\n",
    "a = list(map(int, input().split()))\n",
    "v = int(input())\n",
    "\n",
    "print(a.count(v))"
   ]
  },
  {
   "cell_type": "code",
   "execution_count": 12,
   "id": "2e0e0fc1",
   "metadata": {},
   "outputs": [
    {
     "name": "stdout",
     "output_type": "stream",
     "text": [
      "10 5\n",
      "1 10 4 9 2 3 8 5 7 6\n",
      "1 4 2 3 "
     ]
    }
   ],
   "source": [
    "# 10871번\n",
    "\n",
    "n, x = map(int, input().split())\n",
    "a = list(map(int, input().split()))\n",
    "\n",
    "for i in range(n) :\n",
    "    if a[i] < x :\n",
    "        print(a[i], end = \" \")"
   ]
  },
  {
   "cell_type": "code",
   "execution_count": 20,
   "id": "e16cd7d9",
   "metadata": {},
   "outputs": [
    {
     "name": "stdout",
     "output_type": "stream",
     "text": [
      "5\n",
      "20 10 35 30 7\n",
      "7 35\n"
     ]
    }
   ],
   "source": [
    "# 10818번\n",
    "\n",
    "N = int(input())\n",
    "a = list(map(int, input().split()))\n",
    "\n",
    "print(min(a), max(a))"
   ]
  },
  {
   "cell_type": "code",
   "execution_count": 3,
   "id": "5ffe3a1a",
   "metadata": {},
   "outputs": [
    {
     "name": "stdout",
     "output_type": "stream",
     "text": [
      "3\n",
      "29\n",
      "38\n",
      "12\n",
      "57\n",
      "74\n",
      "40\n",
      "85\n",
      "61\n",
      "85\n",
      "8\n"
     ]
    }
   ],
   "source": [
    "# 2562번\n",
    "a = []\n",
    "\n",
    "for i in range(1,10):\n",
    "    b = int(input())\n",
    "    a.append(b)\n",
    "    \n",
    "print(max(a))\n",
    "print(a.index(max(a)) + 1)"
   ]
  },
  {
   "cell_type": "code",
   "execution_count": 17,
   "id": "10bd8ee1",
   "metadata": {},
   "outputs": [
    {
     "name": "stdout",
     "output_type": "stream",
     "text": [
      "5 4\n",
      "1 2 3\n",
      "3 4 4\n",
      "1 4 1\n",
      "2 2 2\n",
      "1 2 1 1 0 "
     ]
    }
   ],
   "source": [
    "# 10810번\n",
    "N, M = map(int, input().split())\n",
    "A = [0]*N\n",
    "\n",
    "for _ in range(M):\n",
    "    i, j, k = map(int, input().split())\n",
    "    for a in range(i-1,j):\n",
    "        A[a] = k\n",
    "        \n",
    "for i in A:\n",
    "    print(i, end=\" \")"
   ]
  },
  {
   "cell_type": "code",
   "execution_count": 23,
   "id": "681d18ac",
   "metadata": {},
   "outputs": [
    {
     "name": "stdout",
     "output_type": "stream",
     "text": [
      "5 4\n",
      "1 2\n",
      "3 4\n",
      "1 4\n",
      "2 2\n",
      "3 1 4 2 5 "
     ]
    }
   ],
   "source": [
    "# 10813번\n",
    "n, m = map(int, input().split())\n",
    "\n",
    "a = []\n",
    "for i in range(n):\n",
    "    a.append(i+1)\n",
    "    \n",
    "for _ in range(m):\n",
    "    i, j = map(int, input().split())\n",
    "    b = a[i-1]\n",
    "    a[i-1] = a[j-1]\n",
    "    a[j-1] = b\n",
    "\n",
    "for i in a:\n",
    "    print(i, end=\" \")"
   ]
  },
  {
   "cell_type": "code",
   "execution_count": 43,
   "id": "6c0b79ac",
   "metadata": {},
   "outputs": [
    {
     "name": "stdout",
     "output_type": "stream",
     "text": [
      "9\n",
      "30\n",
      "6\n",
      "12\n",
      "10\n",
      "20\n",
      "21\n",
      "11\n",
      "7\n",
      "5\n",
      "28\n",
      "4\n",
      "18\n",
      "29\n",
      "17\n",
      "19\n",
      "27\n",
      "13\n",
      "16\n",
      "26\n",
      "14\n",
      "23\n",
      "22\n",
      "15\n",
      "3\n",
      "1\n",
      "24\n",
      "25\n",
      "2\n",
      "8\n"
     ]
    }
   ],
   "source": [
    "# 5597번 -1\n",
    "a = []\n",
    "for i in range(1,31):\n",
    "    a.append(i)\n",
    "b = []    \n",
    "for i in range(1, 29):\n",
    "    c = int(input())\n",
    "    b.append(c)\n",
    "    \n",
    "set1 = set(a)\n",
    "set2 = set(b)\n",
    "d = list(set1-set2)\n",
    "d.sort()\n",
    "\n",
    "for i in d:\n",
    "    print(i)"
   ]
  },
  {
   "cell_type": "code",
   "execution_count": 44,
   "id": "7af1a3e0",
   "metadata": {},
   "outputs": [
    {
     "name": "stdout",
     "output_type": "stream",
     "text": [
      "3\n",
      "1\n",
      "4\n",
      "5\n",
      "7\n",
      "9\n",
      "6\n",
      "10\n",
      "11\n",
      "12\n",
      "13\n",
      "14\n",
      "15\n",
      "16\n",
      "17\n",
      "18\n",
      "19\n",
      "20\n",
      "21\n",
      "22\n",
      "23\n",
      "24\n",
      "25\n",
      "26\n",
      "27\n",
      "28\n",
      "29\n",
      "30\n",
      "2\n",
      "8\n"
     ]
    }
   ],
   "source": [
    "# 5597번 -2\n",
    "a = []\n",
    "for i in range(1, 31):\n",
    "    a.append(i)\n",
    "    \n",
    "for i in range(1, 29):\n",
    "    n = int(input())\n",
    "    a.remove(n)\n",
    "    \n",
    "for i in a:\n",
    "    print(i)"
   ]
  },
  {
   "cell_type": "code",
   "execution_count": 52,
   "id": "8ca3cb15",
   "metadata": {},
   "outputs": [
    {
     "name": "stdout",
     "output_type": "stream",
     "text": [
      "42\n",
      "84\n",
      "252\n",
      "420\n",
      "840\n",
      "126\n",
      "42\n",
      "84\n",
      "420\n",
      "126\n"
     ]
    },
    {
     "data": {
      "text/plain": [
       "1"
      ]
     },
     "execution_count": 52,
     "metadata": {},
     "output_type": "execute_result"
    }
   ],
   "source": [
    "# 3052번 - 런타임 에러\n",
    "import pandas as pd\n",
    "\n",
    "n = []\n",
    "for i in range(10):\n",
    "    a = int(input())\n",
    "    b = a % 42\n",
    "    n.append(b)\n",
    "    \n",
    "s = pd.Series(n)\n",
    "s.nunique()"
   ]
  },
  {
   "cell_type": "code",
   "execution_count": 53,
   "id": "2da2a4ef",
   "metadata": {},
   "outputs": [
    {
     "name": "stdout",
     "output_type": "stream",
     "text": [
      "1\n",
      "2\n",
      "3\n",
      "4\n",
      "5\n",
      "6\n",
      "7\n",
      "8\n",
      "9\n",
      "10\n",
      "10\n"
     ]
    }
   ],
   "source": [
    "# 3052번\n",
    "n = []\n",
    "for i in range(10):\n",
    "    a = int(input())\n",
    "    b = a % 42\n",
    "    n.append(b)\n",
    "\n",
    "num = set(n) # 집합함수로, 중복된 값은 자동으로 제거\n",
    "print(len(num))"
   ]
  },
  {
   "cell_type": "code",
   "execution_count": 78,
   "id": "f5d3ee3b",
   "metadata": {},
   "outputs": [
    {
     "name": "stdout",
     "output_type": "stream",
     "text": [
      "5 4\n",
      "1 2\n",
      "3 4\n",
      "1 4\n",
      "2 2\n",
      "3 4 1 2 5 "
     ]
    }
   ],
   "source": [
    "# 10811번\n",
    "n, m = map(int, input().split())\n",
    "a = []\n",
    "for i in range(n):\n",
    "    a.append(i+1)\n",
    "    \n",
    "for _ in range(m):\n",
    "    i, j = map(int, input().split())\n",
    "    a[i-1:j] = a[i-1:j][::-1]\n",
    "    \n",
    "for i in a:\n",
    "    print(i, end =\" \")"
   ]
  },
  {
   "cell_type": "code",
   "execution_count": 84,
   "id": "7bec79a0",
   "metadata": {},
   "outputs": [
    {
     "name": "stdout",
     "output_type": "stream",
     "text": [
      "5\n",
      "1 2 4 8 16\n",
      "38.75\n"
     ]
    }
   ],
   "source": [
    "# 1546번\n",
    "n = int(input())\n",
    "a = list(map(int, input().split()))\n",
    "\n",
    "sum_a = 0\n",
    "for i in a:\n",
    "    sum_a = sum_a + ((i/max(a)) * 100)\n",
    "    \n",
    "avg = sum_a / n\n",
    "print(avg)"
   ]
  },
  {
   "cell_type": "markdown",
   "id": "cd7b3aea",
   "metadata": {},
   "source": [
    "## 5단계 - 문자열"
   ]
  },
  {
   "cell_type": "code",
   "execution_count": 88,
   "id": "f5b02f26",
   "metadata": {},
   "outputs": [
    {
     "name": "stdout",
     "output_type": "stream",
     "text": [
      "Beakjoon\n",
      "4\n",
      "k\n"
     ]
    }
   ],
   "source": [
    "# 27866번\n",
    "a = str(input())\n",
    "b = int(input())\n",
    "print(a[b-1])"
   ]
  },
  {
   "cell_type": "code",
   "execution_count": 89,
   "id": "b8287ea7",
   "metadata": {},
   "outputs": [
    {
     "name": "stdout",
     "output_type": "stream",
     "text": [
      "pulljima\n",
      "8\n"
     ]
    }
   ],
   "source": [
    "# 2743번\n",
    "a = str(input())\n",
    "print(len(a))"
   ]
  },
  {
   "cell_type": "code",
   "execution_count": 92,
   "id": "adc69f23",
   "metadata": {},
   "outputs": [
    {
     "name": "stdout",
     "output_type": "stream",
     "text": [
      "3\n",
      "ACDKJFOWIEGHE\n",
      "AE\n",
      "O\n",
      "OO\n",
      "AB\n",
      "AB\n"
     ]
    }
   ],
   "source": [
    "# 9086번\n",
    "t = int(input())\n",
    "\n",
    "for i in range(t):\n",
    "    a = str(input())\n",
    "    print(a[0]+a[len(a)-1])"
   ]
  },
  {
   "cell_type": "code",
   "execution_count": 99,
   "id": "52cd1d57",
   "metadata": {},
   "outputs": [
    {
     "name": "stdout",
     "output_type": "stream",
     "text": [
      "z\n",
      "122\n"
     ]
    }
   ],
   "source": [
    "# 11654번\n",
    "a = input()\n",
    "print(ord(a))"
   ]
  },
  {
   "cell_type": "code",
   "execution_count": 5,
   "id": "53e04024",
   "metadata": {},
   "outputs": [
    {
     "name": "stdout",
     "output_type": "stream",
     "text": [
      "11\n",
      "10987654321\n",
      "46\n"
     ]
    }
   ],
   "source": [
    "# 11720번\n",
    "n = int(input())\n",
    "num = str(input())\n",
    "\n",
    "sum_n = 0\n",
    "for i in range(len(num)):\n",
    "    sum_n = sum_n + int(num[i])\n",
    "print(sum_n)"
   ]
  },
  {
   "cell_type": "code",
   "execution_count": 12,
   "id": "38f86890",
   "metadata": {},
   "outputs": [
    {
     "name": "stdout",
     "output_type": "stream",
     "text": [
      "baekjoon\n",
      "1 0 -1 -1 2 -1 -1 -1 -1 4 3 -1 -1 7 5 -1 -1 -1 -1 -1 -1 -1 -1 -1 -1 -1 "
     ]
    }
   ],
   "source": [
    "# 10809번\n",
    "s = str(input())\n",
    "a = list(range(97,123)) # 아스키코드 숫자 범위를 활용\n",
    "\n",
    "for i in a:\n",
    "    print(s.find(chr(i)), end=\" \")"
   ]
  },
  {
   "cell_type": "markdown",
   "id": "f91100bb",
   "metadata": {},
   "source": [
    "**- 4월 백준 코딩테스트 연습 현황 -**\n",
    "- 5월엔 더 열심히 하자!"
   ]
  },
  {
   "attachments": {
    "april-2.png": {
     "image/png": "[encoded data removed]"
    }
   },
   "cell_type": "markdown",
   "id": "9c799e68",
   "metadata": {},
   "source": [
    "![april-2.png](attachment:april-2.png)"
   ]
  },
  {
   "cell_type": "code",
   "execution_count": null,
   "id": "4bd9eea5",
   "metadata": {},
   "outputs": [],
   "source": []
  }
 ],
 "metadata": {
  "kernelspec": {
   "display_name": "Python 3 (ipykernel)",
   "language": "python",
   "name": "python3"
  },
  "language_info": {
   "codemirror_mode": {
    "name": "ipython",
    "version": 3
   },
   "file_extension": ".py",
   "mimetype": "text/x-python",
   "name": "python",
   "nbconvert_exporter": "python",
   "pygments_lexer": "ipython3",
   "version": "3.9.7"
  },
  "toc": {
   "base_numbering": 1,
   "nav_menu": {},
   "number_sections": true,
   "sideBar": true,
   "skip_h1_title": false,
   "title_cell": "Table of Contents",
   "title_sidebar": "Contents",
   "toc_cell": false,
   "toc_position": {
    "height": "calc(100% - 180px)",
    "left": "10px",
    "top": "150px",
    "width": "303.837px"
   },
   "toc_section_display": true,
   "toc_window_display": true
  },
  "varInspector": {
   "cols": {
    "lenName": 16,
    "lenType": 16,
    "lenVar": 40
   },
   "kernels_config": {
    "python": {
     "delete_cmd_postfix": "",
     "delete_cmd_prefix": "del ",
     "library": "var_list.py",
     "varRefreshCmd": "print(var_dic_list())"
    },
    "r": {
     "delete_cmd_postfix": ") ",
     "delete_cmd_prefix": "rm(",
     "library": "var_list.r",
     "varRefreshCmd": "cat(var_dic_list()) "
    }
   },
   "types_to_exclude": [
    "module",
    "function",
    "builtin_function_or_method",
    "instance",
    "_Feature"
   ],
   "window_display": false
  }
 },
 "nbformat": 4,
 "nbformat_minor": 5
}
